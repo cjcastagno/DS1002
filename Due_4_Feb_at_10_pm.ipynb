{
  "nbformat": 4,
  "nbformat_minor": 0,
  "metadata": {
    "colab": {
      "provenance": [],
      "include_colab_link": true
    },
    "kernelspec": {
      "name": "python3",
      "display_name": "Python 3"
    },
    "language_info": {
      "name": "python"
    }
  },
  "cells": [
    {
      "cell_type": "markdown",
      "metadata": {
        "id": "view-in-github",
        "colab_type": "text"
      },
      "source": [
        "<a href=\"https://colab.research.google.com/github/cjcastagno/DS1002/blob/main/Due_4_Feb_at_10_pm.ipynb\" target=\"_parent\"><img src=\"https://colab.research.google.com/assets/colab-badge.svg\" alt=\"Open In Colab\"/></a>"
      ]
    },
    {
      "cell_type": "markdown",
      "source": [
        "## DS 1002 homework due Sunday Feb 4 at 10 pm\n"
      ],
      "metadata": {
        "id": "zAw2bmn-TjFJ"
      }
    },
    {
      "cell_type": "markdown",
      "source": [
        "\n",
        "The notebook from Wednesday's class is in my GitHib repository, including the little script we wrote at the end to find mangos in a list of fruit.  The file is called `MorePythonBasics.ipynb`.\n",
        "\n",
        "(By the way I wondered if the correct spelling was \"mangos\" or \"mangoes\" and I found [this](https://www.mango.org/blog-mangos-or-mangoes/)!  Who knew?  There's a National Mango Board!  And they're prepared to adjudicate this and other difficult mango-related questions.)\n",
        "\n",
        "\n"
      ],
      "metadata": {
        "id": "Cmf4xleCSWCu"
      }
    },
    {
      "cell_type": "markdown",
      "source": [
        "### Problem 1:  finding fruit\n",
        "\n",
        "Adapt the function we wrote in class so that it takes two arguments,\n",
        "\n",
        "`fruit` and `hungryfor` ,\n",
        "\n",
        "and then searches through the list `fruit` for the item `hungryfor`.  The line that calls the function should look like\n",
        "\n",
        "`find_fruit(food, hungryfor)`\n",
        "\n",
        "Make it print out the results in the same way, so for example if `food` is what we entered in class and `hungryfor = \"tomatoes\"` then the output will be\n",
        "\n",
        "```python\n",
        "No tomatoes here.\n",
        "No tomatoes here.\n",
        "No tomatoes here.\n",
        "No tomatoes here.\n",
        "No tomatoes here.\n",
        "```\n",
        "Test your code by changing the values of `food` and `hungryfor` and make sure the output is what you expect.  Show a few outputs, each in its own code chunk.\n",
        "\n"
      ],
      "metadata": {
        "id": "rJLyGryAThhp"
      }
    },
    {
      "cell_type": "code",
      "source": [
        "# put code here\n",
        "fruit = [\"apples\", \"oranges\", \"mangos\", \"bananas\", \"blueberries\"]\n",
        "hungryfor = \"oranges\"\n",
        "def find_fruit(fruit, hungryfor):\n",
        "  for x in fruit:\n",
        "    if x == hungryfor:\n",
        "      print('Here they are!')\n",
        "    else:\n",
        "        print('no ' + hungryfor + ' here')"
      ],
      "metadata": {
        "id": "YXwLLFCt6H2f"
      },
      "execution_count": null,
      "outputs": []
    },
    {
      "cell_type": "code",
      "source": [
        "# put your first function call here, and make more code chunks for additional function calls\n",
        "fruit = [\"apples\", \"oranges\", \"mangos\", \"bananas\", \"blueberries\"]\n",
        "hungryfor = \"oranges\"\n",
        "def find_fruit(fruit, hungryfor):\n",
        "  for x in fruit:\n",
        "    if x == hungryfor:\n",
        "      print('Here they are!')\n",
        "    else:\n",
        "        print('no ' + hungryfor + ' here')\n",
        "\n",
        "find_fruit(fruit, hungryfor)"
      ],
      "metadata": {
        "id": "bYdqsfrh6KnE",
        "outputId": "3069facf-61cf-4313-f8a0-3068ed962ccb",
        "colab": {
          "base_uri": "https://localhost:8080/"
        }
      },
      "execution_count": 12,
      "outputs": [
        {
          "output_type": "stream",
          "name": "stdout",
          "text": [
            "no oranges here\n",
            "Here they are!\n",
            "no oranges here\n",
            "no oranges here\n",
            "no oranges here\n"
          ]
        }
      ]
    },
    {
      "cell_type": "code",
      "source": [
        "fruit = [\"apples\", \"oranges\", \"mangos\", \"bananas\", \"blueberries\"]\n",
        "hungryfor = \"bananas\"\n",
        "def find_fruit(fruit, hungryfor):\n",
        "  for x in fruit:\n",
        "    if x == hungryfor:\n",
        "      print('Here they are!')\n",
        "    else:\n",
        "        print('no ' + hungryfor + ' here')\n",
        "\n",
        "find_fruit(fruit, hungryfor)"
      ],
      "metadata": {
        "id": "qTRazPH8r9UW",
        "outputId": "52e0d6d6-3814-498b-b12e-54586e550d95",
        "colab": {
          "base_uri": "https://localhost:8080/"
        }
      },
      "execution_count": 14,
      "outputs": [
        {
          "output_type": "stream",
          "name": "stdout",
          "text": [
            "no bananas here\n",
            "no bananas here\n",
            "no bananas here\n",
            "Here they are!\n",
            "no bananas here\n"
          ]
        }
      ]
    },
    {
      "cell_type": "code",
      "source": [
        "fruit = [\"apples\", \"oranges\", \"mangos\", \"bananas\", \"blueberries\"]\n",
        "hungryfor = \"rocks\"\n",
        "def find_fruit(fruit, hungryfor):\n",
        "  for x in fruit:\n",
        "    if x == hungryfor:\n",
        "      print('Here they are!')\n",
        "    else:\n",
        "        print('no ' + hungryfor + ' here')\n",
        "\n",
        "find_fruit(fruit, hungryfor)"
      ],
      "metadata": {
        "id": "sjmIf-rksE9b",
        "outputId": "8acbff89-08c0-4727-b8d3-cf160d8f6f6b",
        "colab": {
          "base_uri": "https://localhost:8080/"
        }
      },
      "execution_count": 15,
      "outputs": [
        {
          "output_type": "stream",
          "name": "stdout",
          "text": [
            "no rocks here\n",
            "no rocks here\n",
            "no rocks here\n",
            "no rocks here\n",
            "no rocks here\n"
          ]
        }
      ]
    },
    {
      "cell_type": "markdown",
      "source": [
        "#### Notes\n",
        "1. Once you have run a code chunk in the notebook, it will remember that it has been run.  You don't have to call the function in the same code chunk where the function is defined.  In other words, to call the function with new inputs you can simply make a new code chunk, change the inputs, and call the function.  *You don't have to retype the definition of the function each time.*\n",
        "\n",
        "2. Make sure you clean things up when you're done, so you don't include old code that doesn't work or old incorrect outputs.\n"
      ],
      "metadata": {
        "id": "AMp-a1ym6W7w"
      }
    },
    {
      "cell_type": "markdown",
      "source": [
        "### Problem 2:  the `input()` function\n",
        "\n",
        "(a) Programming gets way more fun when you start to interact with your own programs!  Here is a function that lets you start doing that.  Run the following code and see what happens:\n"
      ],
      "metadata": {
        "id": "R-s9cZ6GYWNX"
      }
    },
    {
      "cell_type": "code",
      "source": [
        "input()\n",
        "print(\"Hello there!\")"
      ],
      "metadata": {
        "id": "IEK8O2qNYkXn",
        "outputId": "6cd35fd7-b2cd-4519-ff03-d0e8726262ce",
        "colab": {
          "base_uri": "https://localhost:8080/"
        }
      },
      "execution_count": 1,
      "outputs": [
        {
          "output_type": "stream",
          "name": "stdout",
          "text": [
            "10\n",
            "Hello there!\n"
          ]
        }
      ]
    },
    {
      "cell_type": "markdown",
      "source": [
        "(b) As you just saw, the code waits for you to enter something before it continues.  If you want to actually use the input in the code, you should assign its value to a variable:"
      ],
      "metadata": {
        "id": "sktZu8wWzFF6"
      }
    },
    {
      "cell_type": "code",
      "source": [
        "message = input()\n",
        "print(message)"
      ],
      "metadata": {
        "id": "fMmBkzbyz9Ty",
        "outputId": "29f75147-ab09-47f2-d945-b41c89c520f2",
        "colab": {
          "base_uri": "https://localhost:8080/"
        }
      },
      "execution_count": 2,
      "outputs": [
        {
          "output_type": "stream",
          "name": "stdout",
          "text": [
            "conall\n",
            "conall\n"
          ]
        }
      ]
    },
    {
      "cell_type": "markdown",
      "source": [
        "(c) Now you can start interacting.  Write some code that asks the user what they are hungry for (using a print statement), and then takes the user input, and then runs the `find_fruit` function from the previous code block using the user input as the `hungryfor` variable.  Test your code, and then include a few different outputs that demonstrate that the code works."
      ],
      "metadata": {
        "id": "ny41z-dQYmjQ"
      }
    },
    {
      "cell_type": "code",
      "source": [
        "# put code here\n",
        "print('What are you hungry for?')\n",
        "message = input()\n",
        "print(message + \"? Let's see!\")\n",
        "fruit = [\"apples\", \"oranges\", \"mangos\", \"bananas\", \"blueberries\"]\n",
        "hungryfor = message\n",
        "def find_fruit(fruit, hungryfor):\n",
        "  for x in fruit:\n",
        "    if x == hungryfor:\n",
        "      print('Here they are!')\n",
        "    else:\n",
        "        print('no ' + hungryfor + ' here')"
      ],
      "metadata": {
        "id": "SKAVoAZ00xOx"
      },
      "execution_count": null,
      "outputs": []
    },
    {
      "cell_type": "code",
      "source": [
        "# run it here, and add more code chunks for more runs\n",
        "print('What are you hungry for?')\n",
        "message = input()\n",
        "print(message + \"? Let's see!\")\n",
        "fruit = [\"apples\", \"oranges\", \"mangos\", \"bananas\", \"blueberries\"]\n",
        "hungryfor = message\n",
        "def find_fruit(fruit, hungryfor):\n",
        "  for x in fruit:\n",
        "    if x == hungryfor:\n",
        "      print('Here they are!')\n",
        "    else:\n",
        "        print('no ' + hungryfor + ' here')\n",
        "\n",
        "find_fruit(fruit, hungryfor)"
      ],
      "metadata": {
        "id": "sQQVP1oa5dR7",
        "outputId": "9f48007f-e01a-44da-aebf-f7e549fb7b87",
        "colab": {
          "base_uri": "https://localhost:8080/"
        }
      },
      "execution_count": 28,
      "outputs": [
        {
          "output_type": "stream",
          "name": "stdout",
          "text": [
            "What are you hungry for?\n",
            "oranges\n",
            "oranges? Let's see!\n",
            "no oranges here\n",
            "Here they are!\n",
            "no oranges here\n",
            "no oranges here\n",
            "no oranges here\n"
          ]
        }
      ]
    },
    {
      "cell_type": "code",
      "source": [
        "print('What are you hungry for?')\n",
        "message = input()\n",
        "print(message + \"? Let's see!\")\n",
        "fruit = [\"apples\", \"oranges\", \"mangos\", \"bananas\", \"blueberries\"]\n",
        "hungryfor = message\n",
        "def find_fruit(fruit, hungryfor):\n",
        "  for x in fruit:\n",
        "    if x == hungryfor:\n",
        "      print('Here they are!')\n",
        "    else:\n",
        "        print('no ' + hungryfor + ' here')\n",
        "\n",
        "find_fruit(fruit, hungryfor)"
      ],
      "metadata": {
        "id": "OKykfqA3t0QJ",
        "outputId": "c46432a6-3722-44e0-9879-d0ba0b306588",
        "colab": {
          "base_uri": "https://localhost:8080/"
        }
      },
      "execution_count": 29,
      "outputs": [
        {
          "output_type": "stream",
          "name": "stdout",
          "text": [
            "What are you hungry for?\n",
            "dirt\n",
            "dirt? Let's see!\n",
            "no dirt here\n",
            "no dirt here\n",
            "no dirt here\n",
            "no dirt here\n",
            "no dirt here\n"
          ]
        }
      ]
    },
    {
      "cell_type": "code",
      "source": [
        "print('What are you hungry for?')\n",
        "message = input()\n",
        "print(message + \"? Let's see!\")\n",
        "fruit = [\"apples\", \"oranges\", \"mangos\", \"bananas\", \"blueberries\"]\n",
        "hungryfor = message\n",
        "def find_fruit(fruit, hungryfor):\n",
        "  for x in fruit:\n",
        "    if x == hungryfor:\n",
        "      print('Here they are!')\n",
        "    else:\n",
        "        print('no ' + hungryfor + ' here')\n",
        "\n",
        "find_fruit(fruit, hungryfor)"
      ],
      "metadata": {
        "id": "vDiDHAi4ukyI",
        "outputId": "83a59478-b2ed-433f-abce-743ec22d9fcf",
        "colab": {
          "base_uri": "https://localhost:8080/"
        }
      },
      "execution_count": 30,
      "outputs": [
        {
          "output_type": "stream",
          "name": "stdout",
          "text": [
            "What are you hungry for?\n",
            "bananas\n",
            "bananas? Let's see!\n",
            "no bananas here\n",
            "no bananas here\n",
            "no bananas here\n",
            "Here they are!\n",
            "no bananas here\n"
          ]
        }
      ]
    },
    {
      "cell_type": "markdown",
      "source": [
        "### Problem 3:  ratings  \n",
        "Write a piece of code which prompts a user with the question \"What is your rating? (1-10)\" and then asks for user input.  Let's say the input is 3.  Once the input is received, print out a message that says.\n",
        "\n",
        "\"Your rating is *** .\"\n",
        "\n",
        "Obviously, your program should print the number of stars corresponding to the input!  If the input is 5, it should print\n",
        "\n",
        "\"Your rating is ***** .\"\n",
        "\n",
        "Show at least two outputs of your code."
      ],
      "metadata": {
        "id": "5CWOlHBz0xoZ"
      }
    },
    {
      "cell_type": "code",
      "source": [
        "# put code here\n",
        "print('What is your rating? (1-10)')\n",
        "rating = int(input()) * '*'\n",
        "print('your rating is ' + rating)\n"
      ],
      "metadata": {
        "id": "MCWnTAUW2Gin",
        "outputId": "cac3a9c5-904f-4ebb-8857-4d1cab5e78c2",
        "colab": {
          "base_uri": "https://localhost:8080/"
        }
      },
      "execution_count": 7,
      "outputs": [
        {
          "output_type": "stream",
          "name": "stdout",
          "text": [
            "What is your rating? (1-10)\n",
            "8\n",
            "your rating is ********\n"
          ]
        }
      ]
    },
    {
      "cell_type": "code",
      "source": [
        "# you might have to copy the code to show another output\n",
        "# (unless you figure out another way to do it)\n",
        "print('What is your rating? (1-10)')\n",
        "rating = int(input()) * '*'\n",
        "print('your rating is ' + rating)"
      ],
      "metadata": {
        "id": "nxm67oCk8Ukn",
        "outputId": "1b7dce89-89b7-42ae-e34a-728780c22a15",
        "colab": {
          "base_uri": "https://localhost:8080/"
        }
      },
      "execution_count": 8,
      "outputs": [
        {
          "output_type": "stream",
          "name": "stdout",
          "text": [
            "What is your rating? (1-10)\n",
            "3\n",
            "your rating is ***\n"
          ]
        }
      ]
    },
    {
      "cell_type": "code",
      "source": [
        "print('What is your rating? (1-10)')\n",
        "rating = int(input()) * '*'\n",
        "print('your rating is ' + rating)"
      ],
      "metadata": {
        "id": "vhlId_Nay2eP",
        "outputId": "1b3b6ac9-b18c-4e41-8f79-63da1333b5fe",
        "colab": {
          "base_uri": "https://localhost:8080/"
        }
      },
      "execution_count": 9,
      "outputs": [
        {
          "output_type": "stream",
          "name": "stdout",
          "text": [
            "What is your rating? (1-10)\n",
            "10\n",
            "your rating is **********\n"
          ]
        }
      ]
    },
    {
      "cell_type": "markdown",
      "source": [
        "You do not have to do this as part of the assignment, but one thing to think about with any code that has **interactivity** is that you want to make it **robust**.  This means you should imagine someone is *trying* to break your code, and you should try to make it as indestructible as possible.\n",
        "\n",
        "What will happen to your code if someone enters 3.5?  Or -12?  Or \"nonsense\"?  Test it and see.  Think about how you might guard against errors.\n"
      ],
      "metadata": {
        "id": "VRfc9puT2yac"
      }
    }
  ]
}