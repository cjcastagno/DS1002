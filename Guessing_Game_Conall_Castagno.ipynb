{
  "nbformat": 4,
  "nbformat_minor": 0,
  "metadata": {
    "colab": {
      "provenance": [],
      "authorship_tag": "ABX9TyPR9m7BnBZ5uqHeJ0OY8nVT",
      "include_colab_link": true
    },
    "kernelspec": {
      "name": "python3",
      "display_name": "Python 3"
    },
    "language_info": {
      "name": "python"
    }
  },
  "cells": [
    {
      "cell_type": "markdown",
      "metadata": {
        "id": "view-in-github",
        "colab_type": "text"
      },
      "source": [
        "<a href=\"https://colab.research.google.com/github/cjcastagno/DS1002/blob/main/Guessing_Game_Conall_Castagno.ipynb\" target=\"_parent\"><img src=\"https://colab.research.google.com/assets/colab-badge.svg\" alt=\"Open In Colab\"/></a>"
      ]
    },
    {
      "cell_type": "code",
      "execution_count": null,
      "metadata": {
        "colab": {
          "base_uri": "https://localhost:8080/"
        },
        "id": "rEtYvlN728hu",
        "outputId": "0974ad9a-a1cc-429f-80f6-c2ba9b2af666"
      },
      "outputs": [
        {
          "output_type": "stream",
          "name": "stdout",
          "text": [
            "Let's play the number guessing game.\n"
          ]
        }
      ],
      "source": [
        "# Conall Castagno\n",
        "# This assignment took me roughly 3 or 4 hours\n",
        "\n",
        "\n",
        "import random\n",
        "import numpy\n",
        "lower_bound = 0\n",
        "upper_bound = 100\n",
        "max_attempts = 1000\n",
        "secret_number = random.randint(lower_bound, upper_bound)\n",
        "def get_guess():\n",
        "  while True:\n",
        "    try:\n",
        "        guess = int(input(f\"Guess a number between {lower_bound} and {upper_bound}: \"))\n",
        "        if lower_bound <= guess <= upper_bound:\n",
        "            return guess\n",
        "        else:\n",
        "            print(\"Invalid input. Please enter a number\")\n",
        "    except ValueError:\n",
        "        print(\"Invalid input. Please enter a number\")\n",
        "\n",
        "def check_guess(guess, secret_number):\n",
        "  if guess == secret_number:\n",
        "    return \"You got it!\"\n",
        "  elif guess < secret_number:\n",
        "    return \"Too low\"\n",
        "  else:\n",
        "    return \"Too high\"\n",
        "\n",
        "def play_game():\n",
        "  attempts = 0\n",
        "  won = False\n",
        "\n",
        "  while attempts < max_attempts:\n",
        "    attempts += 1\n",
        "    guess = get_guess()\n",
        "    result = check_guess(guess, secret_number)\n",
        "\n",
        "    if result == \"You got it!\":\n",
        "      print(f\"Congratulations! You guessed the number in {attempts} attempts!\")\n",
        "      won = True\n",
        "      break\n",
        "    else:\n",
        "      print(f\"{result}. Guess again.\")\n",
        "\n",
        "  if not won:\n",
        "    print(f\"Sorry, you ran out of attempts! The secret number is {secret_number}.\")\n",
        "\n",
        "if __name__ == \"__main__\":\n",
        "  print(\"Let's play the number guessing game.\")\n",
        "  play_game()"
      ]
    }
  ]
}